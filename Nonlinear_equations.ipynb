{
 "cells": [
  {
   "cell_type": "code",
   "execution_count": 250,
   "metadata": {},
   "outputs": [],
   "source": [
    "import math\n",
    "import pandas as pd\n",
    "from scipy.misc import derivative\n",
    "import matplotlib.pyplot as plt\n",
    "import numpy as np"
   ]
  },
  {
   "cell_type": "markdown",
   "metadata": {},
   "source": [
    "Нелинейным называется уравнение вида $\\varphi(x) = 0$, где $\\varphi(x)$ — некоторая нелинейная функция."
   ]
  },
  {
   "cell_type": "markdown",
   "metadata": {},
   "source": [
    "Определим уравнения: \n",
    "\n",
    "1. $4(1-x^2) - e^2$\n",
    "2. $x^3 - x - 2$\n",
    "3. $\\sqrt{x} + 2$"
   ]
  },
  {
   "cell_type": "code",
   "execution_count": 251,
   "metadata": {},
   "outputs": [],
   "source": [
    "def function_1(x):\n",
    "    return 4 * (1 - x**2) - math.exp(x)\n",
    "\n",
    "def function_2(x):\n",
    "    return x**3 - x - 2\n",
    "\n",
    "def function_3(x):\n",
    "    return x ** 0.5 + 2"
   ]
  },
  {
   "cell_type": "markdown",
   "metadata": {},
   "source": [
    "### Метод бисекции\n",
    "\n",
    "Метод бисекции или метод деления отрезка пополам — простейший численный метод для решения нелинейных уравнений вида $f(x)=0$. Предполагается только непрерывность функции $f(x)$."
   ]
  },
  {
   "cell_type": "code",
   "execution_count": 252,
   "metadata": {},
   "outputs": [],
   "source": [
    "def bisection(func, a, b, eps):\n",
    "    df = pd.DataFrame(columns=['iteration', 'a', 'b', 'x_n', 'f(x_n)'])\n",
    "    k = 0\n",
    "    while b - a >= 2 * eps:     \n",
    "        x0 = (a + b) / 2\n",
    "        df.loc[len(df)] = [k, a, b, x0, func(x0)]\n",
    "        a, b = (a, x0) if func(a) * func(x0) <= 0 else (x0, b)\n",
    "        k += 1\n",
    "    return x0, df"
   ]
  },
  {
   "cell_type": "markdown",
   "metadata": {},
   "source": [
    "Найдем корень уравнения $4(1-x^2) - e^2 = 0$ на отрезке [0, 1]"
   ]
  },
  {
   "cell_type": "code",
   "execution_count": 253,
   "metadata": {},
   "outputs": [
    {
     "data": {
      "text/html": [
       "<div>\n",
       "<style scoped>\n",
       "    .dataframe tbody tr th:only-of-type {\n",
       "        vertical-align: middle;\n",
       "    }\n",
       "\n",
       "    .dataframe tbody tr th {\n",
       "        vertical-align: top;\n",
       "    }\n",
       "\n",
       "    .dataframe thead th {\n",
       "        text-align: right;\n",
       "    }\n",
       "</style>\n",
       "<table border=\"1\" class=\"dataframe\">\n",
       "  <thead>\n",
       "    <tr style=\"text-align: right;\">\n",
       "      <th></th>\n",
       "      <th>iteration</th>\n",
       "      <th>a</th>\n",
       "      <th>b</th>\n",
       "      <th>x_n</th>\n",
       "      <th>f(x_n)</th>\n",
       "    </tr>\n",
       "  </thead>\n",
       "  <tbody>\n",
       "    <tr>\n",
       "      <th>0</th>\n",
       "      <td>0.0</td>\n",
       "      <td>0.0000</td>\n",
       "      <td>1.00000</td>\n",
       "      <td>0.500000</td>\n",
       "      <td>1.351279</td>\n",
       "    </tr>\n",
       "    <tr>\n",
       "      <th>1</th>\n",
       "      <td>1.0</td>\n",
       "      <td>0.5000</td>\n",
       "      <td>1.00000</td>\n",
       "      <td>0.750000</td>\n",
       "      <td>-0.367000</td>\n",
       "    </tr>\n",
       "    <tr>\n",
       "      <th>2</th>\n",
       "      <td>2.0</td>\n",
       "      <td>0.5000</td>\n",
       "      <td>0.75000</td>\n",
       "      <td>0.625000</td>\n",
       "      <td>0.569254</td>\n",
       "    </tr>\n",
       "    <tr>\n",
       "      <th>3</th>\n",
       "      <td>3.0</td>\n",
       "      <td>0.6250</td>\n",
       "      <td>0.75000</td>\n",
       "      <td>0.687500</td>\n",
       "      <td>0.120638</td>\n",
       "    </tr>\n",
       "    <tr>\n",
       "      <th>4</th>\n",
       "      <td>4.0</td>\n",
       "      <td>0.6875</td>\n",
       "      <td>0.75000</td>\n",
       "      <td>0.718750</td>\n",
       "      <td>-0.118273</td>\n",
       "    </tr>\n",
       "    <tr>\n",
       "      <th>5</th>\n",
       "      <td>5.0</td>\n",
       "      <td>0.6875</td>\n",
       "      <td>0.71875</td>\n",
       "      <td>0.703125</td>\n",
       "      <td>0.002405</td>\n",
       "    </tr>\n",
       "  </tbody>\n",
       "</table>\n",
       "</div>"
      ],
      "text/plain": [
       "   iteration       a        b       x_n    f(x_n)\n",
       "0        0.0  0.0000  1.00000  0.500000  1.351279\n",
       "1        1.0  0.5000  1.00000  0.750000 -0.367000\n",
       "2        2.0  0.5000  0.75000  0.625000  0.569254\n",
       "3        3.0  0.6250  0.75000  0.687500  0.120638\n",
       "4        4.0  0.6875  0.75000  0.718750 -0.118273\n",
       "5        5.0  0.6875  0.71875  0.703125  0.002405"
      ]
     },
     "execution_count": 253,
     "metadata": {},
     "output_type": "execute_result"
    }
   ],
   "source": [
    "res, df_iter = bisection(function_1, a=0, b=1, eps=1e-2)\n",
    "df_iter"
   ]
  },
  {
   "cell_type": "code",
   "execution_count": 254,
   "metadata": {},
   "outputs": [
    {
     "name": "stdout",
     "output_type": "stream",
     "text": [
      "После 6 итераций x сходится к 0.703125\n"
     ]
    }
   ],
   "source": [
    "print(f'После {len(df_iter)} итераций x сходится к {res}')"
   ]
  },
  {
   "cell_type": "markdown",
   "metadata": {},
   "source": [
    "Найдем корень уравнения $x^3 - x - 2$ на отрезке [1, 2]"
   ]
  },
  {
   "cell_type": "code",
   "execution_count": 255,
   "metadata": {},
   "outputs": [
    {
     "data": {
      "text/html": [
       "<div>\n",
       "<style scoped>\n",
       "    .dataframe tbody tr th:only-of-type {\n",
       "        vertical-align: middle;\n",
       "    }\n",
       "\n",
       "    .dataframe tbody tr th {\n",
       "        vertical-align: top;\n",
       "    }\n",
       "\n",
       "    .dataframe thead th {\n",
       "        text-align: right;\n",
       "    }\n",
       "</style>\n",
       "<table border=\"1\" class=\"dataframe\">\n",
       "  <thead>\n",
       "    <tr style=\"text-align: right;\">\n",
       "      <th></th>\n",
       "      <th>iteration</th>\n",
       "      <th>a</th>\n",
       "      <th>b</th>\n",
       "      <th>x_n</th>\n",
       "      <th>f(x_n)</th>\n",
       "    </tr>\n",
       "  </thead>\n",
       "  <tbody>\n",
       "    <tr>\n",
       "      <th>0</th>\n",
       "      <td>0.0</td>\n",
       "      <td>1.000000</td>\n",
       "      <td>2.000000</td>\n",
       "      <td>1.500000</td>\n",
       "      <td>-0.125000</td>\n",
       "    </tr>\n",
       "    <tr>\n",
       "      <th>1</th>\n",
       "      <td>1.0</td>\n",
       "      <td>1.500000</td>\n",
       "      <td>2.000000</td>\n",
       "      <td>1.750000</td>\n",
       "      <td>1.609375</td>\n",
       "    </tr>\n",
       "    <tr>\n",
       "      <th>2</th>\n",
       "      <td>2.0</td>\n",
       "      <td>1.500000</td>\n",
       "      <td>1.750000</td>\n",
       "      <td>1.625000</td>\n",
       "      <td>0.666016</td>\n",
       "    </tr>\n",
       "    <tr>\n",
       "      <th>3</th>\n",
       "      <td>3.0</td>\n",
       "      <td>1.500000</td>\n",
       "      <td>1.625000</td>\n",
       "      <td>1.562500</td>\n",
       "      <td>0.252197</td>\n",
       "    </tr>\n",
       "    <tr>\n",
       "      <th>4</th>\n",
       "      <td>4.0</td>\n",
       "      <td>1.500000</td>\n",
       "      <td>1.562500</td>\n",
       "      <td>1.531250</td>\n",
       "      <td>0.059113</td>\n",
       "    </tr>\n",
       "    <tr>\n",
       "      <th>5</th>\n",
       "      <td>5.0</td>\n",
       "      <td>1.500000</td>\n",
       "      <td>1.531250</td>\n",
       "      <td>1.515625</td>\n",
       "      <td>-0.034054</td>\n",
       "    </tr>\n",
       "    <tr>\n",
       "      <th>6</th>\n",
       "      <td>6.0</td>\n",
       "      <td>1.515625</td>\n",
       "      <td>1.531250</td>\n",
       "      <td>1.523438</td>\n",
       "      <td>0.012250</td>\n",
       "    </tr>\n",
       "    <tr>\n",
       "      <th>7</th>\n",
       "      <td>7.0</td>\n",
       "      <td>1.515625</td>\n",
       "      <td>1.523438</td>\n",
       "      <td>1.519531</td>\n",
       "      <td>-0.010971</td>\n",
       "    </tr>\n",
       "    <tr>\n",
       "      <th>8</th>\n",
       "      <td>8.0</td>\n",
       "      <td>1.519531</td>\n",
       "      <td>1.523438</td>\n",
       "      <td>1.521484</td>\n",
       "      <td>0.000622</td>\n",
       "    </tr>\n",
       "    <tr>\n",
       "      <th>9</th>\n",
       "      <td>9.0</td>\n",
       "      <td>1.519531</td>\n",
       "      <td>1.521484</td>\n",
       "      <td>1.520508</td>\n",
       "      <td>-0.005179</td>\n",
       "    </tr>\n",
       "    <tr>\n",
       "      <th>10</th>\n",
       "      <td>10.0</td>\n",
       "      <td>1.520508</td>\n",
       "      <td>1.521484</td>\n",
       "      <td>1.520996</td>\n",
       "      <td>-0.002279</td>\n",
       "    </tr>\n",
       "    <tr>\n",
       "      <th>11</th>\n",
       "      <td>11.0</td>\n",
       "      <td>1.520996</td>\n",
       "      <td>1.521484</td>\n",
       "      <td>1.521240</td>\n",
       "      <td>-0.000829</td>\n",
       "    </tr>\n",
       "    <tr>\n",
       "      <th>12</th>\n",
       "      <td>12.0</td>\n",
       "      <td>1.521240</td>\n",
       "      <td>1.521484</td>\n",
       "      <td>1.521362</td>\n",
       "      <td>-0.000103</td>\n",
       "    </tr>\n",
       "  </tbody>\n",
       "</table>\n",
       "</div>"
      ],
      "text/plain": [
       "    iteration         a         b       x_n    f(x_n)\n",
       "0         0.0  1.000000  2.000000  1.500000 -0.125000\n",
       "1         1.0  1.500000  2.000000  1.750000  1.609375\n",
       "2         2.0  1.500000  1.750000  1.625000  0.666016\n",
       "3         3.0  1.500000  1.625000  1.562500  0.252197\n",
       "4         4.0  1.500000  1.562500  1.531250  0.059113\n",
       "5         5.0  1.500000  1.531250  1.515625 -0.034054\n",
       "6         6.0  1.515625  1.531250  1.523438  0.012250\n",
       "7         7.0  1.515625  1.523438  1.519531 -0.010971\n",
       "8         8.0  1.519531  1.523438  1.521484  0.000622\n",
       "9         9.0  1.519531  1.521484  1.520508 -0.005179\n",
       "10       10.0  1.520508  1.521484  1.520996 -0.002279\n",
       "11       11.0  1.520996  1.521484  1.521240 -0.000829\n",
       "12       12.0  1.521240  1.521484  1.521362 -0.000103"
      ]
     },
     "execution_count": 255,
     "metadata": {},
     "output_type": "execute_result"
    }
   ],
   "source": [
    "res, df_iter = bisection(function_2, a=1, b=2, eps=10e-5)\n",
    "df_iter"
   ]
  },
  {
   "cell_type": "code",
   "execution_count": 256,
   "metadata": {},
   "outputs": [
    {
     "name": "stdout",
     "output_type": "stream",
     "text": [
      "После 13 итераций x сходится к 1.5213623046875\n"
     ]
    }
   ],
   "source": [
    "print(f'После {len(df_iter)} итераций x сходится к {res}')"
   ]
  },
  {
   "cell_type": "markdown",
   "metadata": {},
   "source": [
    "### Метод простой итерации\n",
    "\n",
    "Метод простой итерации — один из простейших численных методов решения уравнений. \n",
    "\n",
    "Итерационный процесс определяется как $x_{n+1}=f(x_{n}),n=0,1,2,\\dots$\n",
    "\n",
    "#### Для сходимости алгоритма необходимо, чтобы функция $f(x)$ являлась сжимающим отображением."
   ]
  },
  {
   "cell_type": "markdown",
   "metadata": {},
   "source": [
    "Найдем корень уравнения $\\sqrt{x} + 2 = 0$ при $x_0$ = 1.7 и $\\varepsilon = 10^{-2}$"
   ]
  },
  {
   "cell_type": "code",
   "execution_count": 257,
   "metadata": {},
   "outputs": [],
   "source": [
    "def fixed_point(func, x0, eps, n_iter=100):\n",
    "    df = pd.DataFrame(columns=['iteration', 'x_n', 'f(x_n)'])\n",
    "    for i in range(n_iter):\n",
    "        x = func(x0)\n",
    "        df.loc[len(df)] = [i, x0, func(x0)]\n",
    "        if abs(x - x0) < eps:\n",
    "            break\n",
    "        x0 = x\n",
    "    return x, df   "
   ]
  },
  {
   "cell_type": "code",
   "execution_count": 258,
   "metadata": {},
   "outputs": [
    {
     "data": {
      "text/html": [
       "<div>\n",
       "<style scoped>\n",
       "    .dataframe tbody tr th:only-of-type {\n",
       "        vertical-align: middle;\n",
       "    }\n",
       "\n",
       "    .dataframe tbody tr th {\n",
       "        vertical-align: top;\n",
       "    }\n",
       "\n",
       "    .dataframe thead th {\n",
       "        text-align: right;\n",
       "    }\n",
       "</style>\n",
       "<table border=\"1\" class=\"dataframe\">\n",
       "  <thead>\n",
       "    <tr style=\"text-align: right;\">\n",
       "      <th></th>\n",
       "      <th>iteration</th>\n",
       "      <th>x_n</th>\n",
       "      <th>f(x_n)</th>\n",
       "    </tr>\n",
       "  </thead>\n",
       "  <tbody>\n",
       "    <tr>\n",
       "      <th>0</th>\n",
       "      <td>0.0</td>\n",
       "      <td>1.700000</td>\n",
       "      <td>3.303840</td>\n",
       "    </tr>\n",
       "    <tr>\n",
       "      <th>1</th>\n",
       "      <td>1.0</td>\n",
       "      <td>3.303840</td>\n",
       "      <td>3.817647</td>\n",
       "    </tr>\n",
       "    <tr>\n",
       "      <th>2</th>\n",
       "      <td>2.0</td>\n",
       "      <td>3.817647</td>\n",
       "      <td>3.953880</td>\n",
       "    </tr>\n",
       "    <tr>\n",
       "      <th>3</th>\n",
       "      <td>3.0</td>\n",
       "      <td>3.953880</td>\n",
       "      <td>3.988437</td>\n",
       "    </tr>\n",
       "    <tr>\n",
       "      <th>4</th>\n",
       "      <td>4.0</td>\n",
       "      <td>3.988437</td>\n",
       "      <td>3.997107</td>\n",
       "    </tr>\n",
       "  </tbody>\n",
       "</table>\n",
       "</div>"
      ],
      "text/plain": [
       "   iteration       x_n    f(x_n)\n",
       "0        0.0  1.700000  3.303840\n",
       "1        1.0  3.303840  3.817647\n",
       "2        2.0  3.817647  3.953880\n",
       "3        3.0  3.953880  3.988437\n",
       "4        4.0  3.988437  3.997107"
      ]
     },
     "execution_count": 258,
     "metadata": {},
     "output_type": "execute_result"
    }
   ],
   "source": [
    "res, df_iter = fixed_point(function_3, x0=1.7, eps=1e-2)\n",
    "df_iter"
   ]
  },
  {
   "cell_type": "code",
   "execution_count": 259,
   "metadata": {},
   "outputs": [
    {
     "name": "stdout",
     "output_type": "stream",
     "text": [
      "После 5 итераций x сходится к 3.9971070491793395\n"
     ]
    }
   ],
   "source": [
    "print(f'После {len(df_iter)} итераций x сходится к {res}')"
   ]
  },
  {
   "cell_type": "markdown",
   "metadata": {},
   "source": [
    "Геометрическое представление итерационного процесса"
   ]
  },
  {
   "cell_type": "code",
   "execution_count": 260,
   "metadata": {},
   "outputs": [
    {
     "data": {
      "image/png": "[encoded data removed]",
      "text/plain": [
       "<Figure size 576x432 with 1 Axes>"
      ]
     },
     "metadata": {
      "needs_background": "light"
     },
     "output_type": "display_data"
    }
   ],
   "source": [
    "x = np.linspace(0,5,100)\n",
    "y = function_3(x)\n",
    "\n",
    "plt.figure(figsize=(8, 6))\n",
    "plt.plot(x, x, 'k', label='y(x) = x')\n",
    "plt.plot(x, y, label=r'$\\sqrt{x} + 2$')\n",
    "plt.plot(df_iter['x_n'], function_3(df_iter['x_n']), 'bo', label=r'$x^{(n)}$')\n",
    "plt.plot(0.7, function_3(0.7), 'ro', label='x0')\n",
    "plt.plot(res, function_3(res), 'go', label='res')\n",
    "\n",
    "plt.axis([0, 6, 2, 5])\n",
    "plt.grid(True)\n",
    "plt.legend(loc='upper left')\n",
    "plt.show()"
   ]
  },
  {
   "cell_type": "markdown",
   "metadata": {},
   "source": [
    "### Метод Ньютона\n",
    "\n",
    "Метод Ньютона — итерационный численный метод нахождения корня заданной функции. Поиск решения осуществляется путём построения последовательных приближений и основан на принципах простой итерации.\n",
    "\n",
    "Для численного решения уравнения $f(x)=0$ методом простой итерации, его необходимо привести к эквивалентному уравнению: $x = \\varphi(x)$, где $\\varphi(x)$ — сжимающее отображение.\n",
    "\n",
    "Для наилучшей сходимости метода в точке очередного приближения $x^{*}$ должно выполняться условие $\\varphi'(x^{*})=0$.\n",
    "С учётом этого функция  $\\varphi(x)$ определяется как $\\varphi(x) = x - \\frac{f(x)}{f'(x)}$\n",
    "\n",
    "Метод имеет квадратичную сходимость."
   ]
  },
  {
   "cell_type": "code",
   "execution_count": 261,
   "metadata": {},
   "outputs": [],
   "source": [
    "def newton(func, x0, eps, n_iter=100):\n",
    "    df = pd.DataFrame(columns=['iteration', 'x_n', 'f(x_n)', '|x - x_prev|'])\n",
    "    x, x_prev = x0, x0 + 2 * eps\n",
    "    k = 0\n",
    "    while abs(x - x_prev) >= eps and k < n_iter:\n",
    "        f = func(x)\n",
    "        df.loc[len(df)] = [k, x, f, abs(x - x_prev)]\n",
    "        dy = derivative(func, x, dx=1e-6)\n",
    "        x, x_prev = x - f / dy, x\n",
    "        k += 1\n",
    "    return x, df   "
   ]
  },
  {
   "cell_type": "markdown",
   "metadata": {},
   "source": [
    "Найдем корень уравнения $4(1-x^2) - e^2 = 0$ при $x_0 = 0.5$"
   ]
  },
  {
   "cell_type": "code",
   "execution_count": 262,
   "metadata": {},
   "outputs": [
    {
     "data": {
      "text/html": [
       "<div>\n",
       "<style scoped>\n",
       "    .dataframe tbody tr th:only-of-type {\n",
       "        vertical-align: middle;\n",
       "    }\n",
       "\n",
       "    .dataframe tbody tr th {\n",
       "        vertical-align: top;\n",
       "    }\n",
       "\n",
       "    .dataframe thead th {\n",
       "        text-align: right;\n",
       "    }\n",
       "</style>\n",
       "<table border=\"1\" class=\"dataframe\">\n",
       "  <thead>\n",
       "    <tr style=\"text-align: right;\">\n",
       "      <th></th>\n",
       "      <th>iteration</th>\n",
       "      <th>x_n</th>\n",
       "      <th>f(x_n)</th>\n",
       "      <th>|x - x_prev|</th>\n",
       "    </tr>\n",
       "  </thead>\n",
       "  <tbody>\n",
       "    <tr>\n",
       "      <th>0</th>\n",
       "      <td>0.0</td>\n",
       "      <td>0.500000</td>\n",
       "      <td>1.351279</td>\n",
       "      <td>0.000002</td>\n",
       "    </tr>\n",
       "    <tr>\n",
       "      <th>1</th>\n",
       "      <td>1.0</td>\n",
       "      <td>0.739219</td>\n",
       "      <td>-0.280074</td>\n",
       "      <td>0.239219</td>\n",
       "    </tr>\n",
       "    <tr>\n",
       "      <th>2</th>\n",
       "      <td>2.0</td>\n",
       "      <td>0.704244</td>\n",
       "      <td>-0.006159</td>\n",
       "      <td>0.034974</td>\n",
       "    </tr>\n",
       "    <tr>\n",
       "      <th>3</th>\n",
       "      <td>3.0</td>\n",
       "      <td>0.703440</td>\n",
       "      <td>-0.000003</td>\n",
       "      <td>0.000804</td>\n",
       "    </tr>\n",
       "  </tbody>\n",
       "</table>\n",
       "</div>"
      ],
      "text/plain": [
       "   iteration       x_n    f(x_n)  |x - x_prev|\n",
       "0        0.0  0.500000  1.351279      0.000002\n",
       "1        1.0  0.739219 -0.280074      0.239219\n",
       "2        2.0  0.704244 -0.006159      0.034974\n",
       "3        3.0  0.703440 -0.000003      0.000804"
      ]
     },
     "execution_count": 262,
     "metadata": {},
     "output_type": "execute_result"
    }
   ],
   "source": [
    "res, df_newton = newton(function_1, x0=0.5, eps=1e-6)\n",
    "df_newton"
   ]
  },
  {
   "cell_type": "markdown",
   "metadata": {},
   "source": [
    "### Модификации метода Ньютона\n",
    "\n",
    "#### Упрощенный метод Ньютона - метод одной касательной\n",
    "\n",
    "В целях уменьшения числа обращений к значениям производной функции применяют так называемый метод одной касательной.\n",
    "Формула итераций этого метода имеет вид: $x_{n+1} = x_n - \\frac{1}{f'(x_0)}f(x_n)$\n",
    "\n",
    "Этот метод является частным случаем метода простой итерации. Он имеет линейный порядок сходимости."
   ]
  },
  {
   "cell_type": "code",
   "execution_count": 263,
   "metadata": {},
   "outputs": [],
   "source": [
    "def simple_newton(func, x0, eps, n_iter=100):\n",
    "    df = pd.DataFrame(columns=['iteration', 'x_n', 'f(x_n)', '|x - x_prev|'])\n",
    "    x, x_prev = x0, x0 + 2 * eps\n",
    "    dy = derivative(func, x, dx=1e-6)\n",
    "    k = 0\n",
    "    while abs(x - x_prev) >= eps and k < n_iter:\n",
    "        f = func(x)\n",
    "        df.loc[len(df)] = [k, x, f, abs(x - x_prev)]\n",
    "        x, x_prev = x - f / dy, x\n",
    "        k += 1\n",
    "    return x, df  "
   ]
  },
  {
   "cell_type": "markdown",
   "metadata": {},
   "source": [
    "Найдем корень уравнения $4(1-x^2) - e^2 = 0$ при $x_0 = 0.5$"
   ]
  },
  {
   "cell_type": "code",
   "execution_count": 264,
   "metadata": {},
   "outputs": [
    {
     "data": {
      "text/html": [
       "<div>\n",
       "<style scoped>\n",
       "    .dataframe tbody tr th:only-of-type {\n",
       "        vertical-align: middle;\n",
       "    }\n",
       "\n",
       "    .dataframe tbody tr th {\n",
       "        vertical-align: top;\n",
       "    }\n",
       "\n",
       "    .dataframe thead th {\n",
       "        text-align: right;\n",
       "    }\n",
       "</style>\n",
       "<table border=\"1\" class=\"dataframe\">\n",
       "  <thead>\n",
       "    <tr style=\"text-align: right;\">\n",
       "      <th></th>\n",
       "      <th>iteration</th>\n",
       "      <th>x_n</th>\n",
       "      <th>f(x_n)</th>\n",
       "      <th>|x - x_prev|</th>\n",
       "    </tr>\n",
       "  </thead>\n",
       "  <tbody>\n",
       "    <tr>\n",
       "      <th>0</th>\n",
       "      <td>0.0</td>\n",
       "      <td>0.500000</td>\n",
       "      <td>1.351279</td>\n",
       "      <td>0.000002</td>\n",
       "    </tr>\n",
       "    <tr>\n",
       "      <th>1</th>\n",
       "      <td>1.0</td>\n",
       "      <td>0.739219</td>\n",
       "      <td>-0.280074</td>\n",
       "      <td>0.239219</td>\n",
       "    </tr>\n",
       "    <tr>\n",
       "      <th>2</th>\n",
       "      <td>2.0</td>\n",
       "      <td>0.689637</td>\n",
       "      <td>0.104614</td>\n",
       "      <td>0.049582</td>\n",
       "    </tr>\n",
       "    <tr>\n",
       "      <th>3</th>\n",
       "      <td>3.0</td>\n",
       "      <td>0.708157</td>\n",
       "      <td>-0.036188</td>\n",
       "      <td>0.018520</td>\n",
       "    </tr>\n",
       "    <tr>\n",
       "      <th>4</th>\n",
       "      <td>4.0</td>\n",
       "      <td>0.701750</td>\n",
       "      <td>0.012907</td>\n",
       "      <td>0.006406</td>\n",
       "    </tr>\n",
       "    <tr>\n",
       "      <th>5</th>\n",
       "      <td>5.0</td>\n",
       "      <td>0.704035</td>\n",
       "      <td>-0.004556</td>\n",
       "      <td>0.002285</td>\n",
       "    </tr>\n",
       "    <tr>\n",
       "      <th>6</th>\n",
       "      <td>6.0</td>\n",
       "      <td>0.703228</td>\n",
       "      <td>0.001614</td>\n",
       "      <td>0.000807</td>\n",
       "    </tr>\n",
       "    <tr>\n",
       "      <th>7</th>\n",
       "      <td>7.0</td>\n",
       "      <td>0.703514</td>\n",
       "      <td>-0.000571</td>\n",
       "      <td>0.000286</td>\n",
       "    </tr>\n",
       "    <tr>\n",
       "      <th>8</th>\n",
       "      <td>8.0</td>\n",
       "      <td>0.703413</td>\n",
       "      <td>0.000202</td>\n",
       "      <td>0.000101</td>\n",
       "    </tr>\n",
       "    <tr>\n",
       "      <th>9</th>\n",
       "      <td>9.0</td>\n",
       "      <td>0.703449</td>\n",
       "      <td>-0.000072</td>\n",
       "      <td>0.000036</td>\n",
       "    </tr>\n",
       "    <tr>\n",
       "      <th>10</th>\n",
       "      <td>10.0</td>\n",
       "      <td>0.703436</td>\n",
       "      <td>0.000025</td>\n",
       "      <td>0.000013</td>\n",
       "    </tr>\n",
       "    <tr>\n",
       "      <th>11</th>\n",
       "      <td>11.0</td>\n",
       "      <td>0.703441</td>\n",
       "      <td>-0.000009</td>\n",
       "      <td>0.000004</td>\n",
       "    </tr>\n",
       "    <tr>\n",
       "      <th>12</th>\n",
       "      <td>12.0</td>\n",
       "      <td>0.703439</td>\n",
       "      <td>0.000003</td>\n",
       "      <td>0.000002</td>\n",
       "    </tr>\n",
       "  </tbody>\n",
       "</table>\n",
       "</div>"
      ],
      "text/plain": [
       "    iteration       x_n    f(x_n)  |x - x_prev|\n",
       "0         0.0  0.500000  1.351279      0.000002\n",
       "1         1.0  0.739219 -0.280074      0.239219\n",
       "2         2.0  0.689637  0.104614      0.049582\n",
       "3         3.0  0.708157 -0.036188      0.018520\n",
       "4         4.0  0.701750  0.012907      0.006406\n",
       "5         5.0  0.704035 -0.004556      0.002285\n",
       "6         6.0  0.703228  0.001614      0.000807\n",
       "7         7.0  0.703514 -0.000571      0.000286\n",
       "8         8.0  0.703413  0.000202      0.000101\n",
       "9         9.0  0.703449 -0.000072      0.000036\n",
       "10       10.0  0.703436  0.000025      0.000013\n",
       "11       11.0  0.703441 -0.000009      0.000004\n",
       "12       12.0  0.703439  0.000003      0.000002"
      ]
     },
     "execution_count": 264,
     "metadata": {},
     "output_type": "execute_result"
    }
   ],
   "source": [
    "res_simple, df_simple_newton = simple_newton(function_1, x0=0.5, eps=1e-6)\n",
    "df_simple_newton"
   ]
  },
  {
   "cell_type": "markdown",
   "metadata": {},
   "source": [
    "#### Метод секущих\n",
    "\n",
    "Родственный метод секущих является «приближённым» методом Ньютона и позволяет не вычислять производную. Значение производной в итерационной формуле заменяется её оценкой по двум предыдущим точкам итераций:\n",
    "\n",
    "$f'(x_n) = \\frac{f(x_{n}) - f(x_{n-1})}{x_{n} - x_{n-1}}$"
   ]
  },
  {
   "cell_type": "code",
   "execution_count": 265,
   "metadata": {},
   "outputs": [],
   "source": [
    "def secant(func, x0, eps, n_iter=100):\n",
    "    df = pd.DataFrame(columns=['iteration', 'x_n', 'f(x_n)', '|x - x_prev|'])\n",
    "    x, x_prev = x0, x0 + 2 * eps\n",
    "    k = 0\n",
    "    while abs(x - x_prev) >= eps and k < n_iter:\n",
    "        f = func(x)\n",
    "        f_prev = func(x_prev)\n",
    "        dy = (f - f_prev) / (x - x_prev)\n",
    "        df.loc[len(df)] = [k, x, f, abs(x - x_prev)]\n",
    "        x, x_prev = x - f / dy, x\n",
    "        k += 1\n",
    "    return x, df"
   ]
  },
  {
   "cell_type": "markdown",
   "metadata": {},
   "source": [
    "Найдем корень уравнения $4(1-x^2) - e^2 = 0$ при $x_0 = 0.5$"
   ]
  },
  {
   "cell_type": "code",
   "execution_count": 266,
   "metadata": {},
   "outputs": [
    {
     "data": {
      "text/html": [
       "<div>\n",
       "<style scoped>\n",
       "    .dataframe tbody tr th:only-of-type {\n",
       "        vertical-align: middle;\n",
       "    }\n",
       "\n",
       "    .dataframe tbody tr th {\n",
       "        vertical-align: top;\n",
       "    }\n",
       "\n",
       "    .dataframe thead th {\n",
       "        text-align: right;\n",
       "    }\n",
       "</style>\n",
       "<table border=\"1\" class=\"dataframe\">\n",
       "  <thead>\n",
       "    <tr style=\"text-align: right;\">\n",
       "      <th></th>\n",
       "      <th>iteration</th>\n",
       "      <th>x_n</th>\n",
       "      <th>f(x_n)</th>\n",
       "      <th>|x - x_prev|</th>\n",
       "    </tr>\n",
       "  </thead>\n",
       "  <tbody>\n",
       "    <tr>\n",
       "      <th>0</th>\n",
       "      <td>0.0</td>\n",
       "      <td>0.500000</td>\n",
       "      <td>1.351279</td>\n",
       "      <td>0.000002</td>\n",
       "    </tr>\n",
       "    <tr>\n",
       "      <th>1</th>\n",
       "      <td>1.0</td>\n",
       "      <td>0.739218</td>\n",
       "      <td>-0.280071</td>\n",
       "      <td>0.239218</td>\n",
       "    </tr>\n",
       "    <tr>\n",
       "      <th>2</th>\n",
       "      <td>2.0</td>\n",
       "      <td>0.698149</td>\n",
       "      <td>0.040323</td>\n",
       "      <td>0.041069</td>\n",
       "    </tr>\n",
       "    <tr>\n",
       "      <th>3</th>\n",
       "      <td>3.0</td>\n",
       "      <td>0.703318</td>\n",
       "      <td>0.000932</td>\n",
       "      <td>0.005169</td>\n",
       "    </tr>\n",
       "    <tr>\n",
       "      <th>4</th>\n",
       "      <td>4.0</td>\n",
       "      <td>0.703440</td>\n",
       "      <td>-0.000003</td>\n",
       "      <td>0.000122</td>\n",
       "    </tr>\n",
       "  </tbody>\n",
       "</table>\n",
       "</div>"
      ],
      "text/plain": [
       "   iteration       x_n    f(x_n)  |x - x_prev|\n",
       "0        0.0  0.500000  1.351279      0.000002\n",
       "1        1.0  0.739218 -0.280071      0.239218\n",
       "2        2.0  0.698149  0.040323      0.041069\n",
       "3        3.0  0.703318  0.000932      0.005169\n",
       "4        4.0  0.703440 -0.000003      0.000122"
      ]
     },
     "execution_count": 266,
     "metadata": {},
     "output_type": "execute_result"
    }
   ],
   "source": [
    "res_secant, df_secant = secant(function_1, x0=0.5, eps=1e-6)\n",
    "df_secant"
   ]
  },
  {
   "cell_type": "markdown",
   "metadata": {},
   "source": [
    "### Метод Стеффенсена\n",
    "\n",
    "Итерационная формула метода имеет вид:\n",
    "\n",
    "$x_{n+1} = x_n - \\frac{f(x_n)}{f(x_n + f(x_n)) -  f(x_n)}f(x_n), n \\geqslant 0$\n",
    "\n",
    "Является одношаговым, не требует вычисления производной, сходится квадратично."
   ]
  },
  {
   "cell_type": "code",
   "execution_count": 268,
   "metadata": {},
   "outputs": [],
   "source": [
    "def steffensen(func, x0, eps, n_iter=100):\n",
    "    df = pd.DataFrame(columns=['iteration', 'x_n', 'f(x_n)', '|x - x_prev|'])\n",
    "    x, x_prev = x0, x0 + 2 * eps\n",
    "    k = 0\n",
    "    while abs(x - x_prev) >= eps and k < n_iter:\n",
    "        f = func(x)\n",
    "        dy = func(x + f) - f\n",
    "        df.loc[len(df)] = [k, x, f, abs(x - x_prev)]\n",
    "        x, x_prev = x - f / dy * f, x\n",
    "        k += 1\n",
    "    return x, df"
   ]
  },
  {
   "cell_type": "markdown",
   "metadata": {},
   "source": [
    "Найдем корень уравнения $4(1-x^2) - e^2 = 0$ при $x_0 = 0.5$"
   ]
  },
  {
   "cell_type": "code",
   "execution_count": 276,
   "metadata": {},
   "outputs": [
    {
     "data": {
      "text/html": [
       "<div>\n",
       "<style scoped>\n",
       "    .dataframe tbody tr th:only-of-type {\n",
       "        vertical-align: middle;\n",
       "    }\n",
       "\n",
       "    .dataframe tbody tr th {\n",
       "        vertical-align: top;\n",
       "    }\n",
       "\n",
       "    .dataframe thead th {\n",
       "        text-align: right;\n",
       "    }\n",
       "</style>\n",
       "<table border=\"1\" class=\"dataframe\">\n",
       "  <thead>\n",
       "    <tr style=\"text-align: right;\">\n",
       "      <th></th>\n",
       "      <th>iteration</th>\n",
       "      <th>x_n</th>\n",
       "      <th>f(x_n)</th>\n",
       "      <th>|x - x_prev|</th>\n",
       "    </tr>\n",
       "  </thead>\n",
       "  <tbody>\n",
       "    <tr>\n",
       "      <th>0</th>\n",
       "      <td>0.0</td>\n",
       "      <td>0.500000</td>\n",
       "      <td>1.351279e+00</td>\n",
       "      <td>0.000002</td>\n",
       "    </tr>\n",
       "    <tr>\n",
       "      <th>1</th>\n",
       "      <td>1.0</td>\n",
       "      <td>0.604770</td>\n",
       "      <td>7.061800e-01</td>\n",
       "      <td>0.104770</td>\n",
       "    </tr>\n",
       "    <tr>\n",
       "      <th>2</th>\n",
       "      <td>2.0</td>\n",
       "      <td>0.673175</td>\n",
       "      <td>2.268863e-01</td>\n",
       "      <td>0.068405</td>\n",
       "    </tr>\n",
       "    <tr>\n",
       "      <th>3</th>\n",
       "      <td>3.0</td>\n",
       "      <td>0.699888</td>\n",
       "      <td>2.709975e-02</td>\n",
       "      <td>0.026713</td>\n",
       "    </tr>\n",
       "    <tr>\n",
       "      <th>4</th>\n",
       "      <td>4.0</td>\n",
       "      <td>0.703385</td>\n",
       "      <td>4.141452e-04</td>\n",
       "      <td>0.003497</td>\n",
       "    </tr>\n",
       "    <tr>\n",
       "      <th>5</th>\n",
       "      <td>5.0</td>\n",
       "      <td>0.703440</td>\n",
       "      <td>9.765471e-08</td>\n",
       "      <td>0.000054</td>\n",
       "    </tr>\n",
       "  </tbody>\n",
       "</table>\n",
       "</div>"
      ],
      "text/plain": [
       "   iteration       x_n        f(x_n)  |x - x_prev|\n",
       "0        0.0  0.500000  1.351279e+00      0.000002\n",
       "1        1.0  0.604770  7.061800e-01      0.104770\n",
       "2        2.0  0.673175  2.268863e-01      0.068405\n",
       "3        3.0  0.699888  2.709975e-02      0.026713\n",
       "4        4.0  0.703385  4.141452e-04      0.003497\n",
       "5        5.0  0.703440  9.765471e-08      0.000054"
      ]
     },
     "execution_count": 276,
     "metadata": {},
     "output_type": "execute_result"
    }
   ],
   "source": [
    "res_steffensen, df_steffensen = steffensen(function_1, x0=0.5, eps=1e-6)\n",
    "df_steffensen"
   ]
  },
  {
   "cell_type": "markdown",
   "metadata": {},
   "source": [
    "Сравнение количества итераций метода Ньютона и его модификаций"
   ]
  },
  {
   "cell_type": "code",
   "execution_count": 275,
   "metadata": {},
   "outputs": [
    {
     "data": {
      "image/png": "[encoded data removed]",
      "text/plain": [
       "<Figure size 576x576 with 1 Axes>"
      ]
     },
     "metadata": {
      "needs_background": "light"
     },
     "output_type": "display_data"
    }
   ],
   "source": [
    "fig, ax = plt.subplots()\n",
    "ax.bar(1, len(df_newton), label='метод Ньютона')\n",
    "ax.bar(2, len(df_simple_newton), label='метод одной касательной')\n",
    "ax.bar(3, len(df_secant), label='метод секущих')\n",
    "ax.bar(4, len(df_steffensen), label='метод Стеффенсена')\n",
    "fig.set_figwidth(8)    \n",
    "fig.set_figheight(8)    \n",
    "\n",
    "plt.ylabel(\"Кол-во итераций\")\n",
    "plt.xlabel(\"Методы\")\n",
    "plt.axis([0, 5, 0, 15])\n",
    "plt.grid(True)\n",
    "plt.legend(loc='upper right')\n",
    "plt.show()"
   ]
  }
 ],
 "metadata": {
  "kernelspec": {
   "display_name": "Python 3",
   "language": "python",
   "name": "python3"
  },
  "language_info": {
   "codemirror_mode": {
    "name": "ipython",
    "version": 3
   },
   "file_extension": ".py",
   "mimetype": "text/x-python",
   "name": "python",
   "nbconvert_exporter": "python",
   "pygments_lexer": "ipython3",
   "version": "3.7.1"
  }
 },
 "nbformat": 4,
 "nbformat_minor": 2
}
