{
 "cells": [
  {
   "cell_type": "code",
   "execution_count": 53,
   "metadata": {},
   "outputs": [],
   "source": [
    "import numpy as np\n",
    "import matplotlib.pyplot as plt\n",
    "import math\n",
    "\n",
    "%matplotlib inline"
   ]
  },
  {
   "cell_type": "markdown",
   "metadata": {},
   "source": [
    "Данные ОДУ:\n",
    "\n",
    "1. $xy' + x^2 + xy - y = 0$\n",
    "2. $y' + y = xy^3$\n",
    "3. $yy' + y^2ctg(x) = cos(x)$"
   ]
  },
  {
   "cell_type": "markdown",
   "metadata": {},
   "source": [
    "Аналитические решения:\n",
    "    \n",
    "\n",
    "1. $y(x) = C * e^{-x}*x - x$\n",
    "2. $y(x) = \\frac{-\\sqrt{2}}{\\sqrt{C * e^{2x} + 2x + 1}}$\n",
    "3. $y(x) = -\\frac{(\\sqrt{sin(x)} \\sqrt{C * csc^3(x) + 2}}{\\sqrt{3}}$"
   ]
  },
  {
   "cell_type": "markdown",
   "metadata": {},
   "source": [
    "#### Задача Коши для ОДУ первого порядка\n",
    "\n",
    "Задача Коши состоит в нахождении решения (интеграла) дифференциального уравнения, удовлетворяющего так называемым начальным условиям (начальным данным).\n",
    "\n",
    "$\n",
    "\\begin{cases}\n",
    " & F(x,y,y') = 0 \\\\ \n",
    " & y(x_0) = y_0  \n",
    "\\end{cases}\n",
    "$\n",
    "\n",
    "Зададим начальные условия:\n",
    "\n",
    "1. $y(1) = 2$\n",
    "2. $y(1) = -1$\n",
    "3. $y(1.1) = -0.1$"
   ]
  },
  {
   "cell_type": "markdown",
   "metadata": {},
   "source": [
    "Определим функции первых производных"
   ]
  },
  {
   "cell_type": "code",
   "execution_count": 54,
   "metadata": {},
   "outputs": [],
   "source": [
    "def function_1(x, y):\n",
    "    return (-1 * x - y + y / x)\n",
    "\n",
    "def function_2(x, y):\n",
    "    return (x * y**3 - y)\n",
    "\n",
    "def function_3(x, y):\n",
    "    return (math.cos(x) / y - y * (math.cos(x) / math.sin(x)))"
   ]
  },
  {
   "cell_type": "markdown",
   "metadata": {},
   "source": [
    "#### Метод Эйлера\n",
    "\n",
    "Метод Эйлера — простейший численный метод решения систем обыкновенных дифференциальных уравнений. Является явным, одношаговым методом первого порядка точности. Он основан на аппроксимации интегральной кривой кусочно-линейной функцией, так называемой ломаной Эйлера.\n",
    "\n",
    "Метод Эйлера является методом первого порядка — имеет погрешность на шаге $O(h^2)$  и погрешность в целом $O(h)$.\n",
    "Ввиду невысокой точности и вычислительной неустойчивости для практического нахождения решений задачи Коши метод Эйлера применяется редко."
   ]
  },
  {
   "cell_type": "code",
   "execution_count": 56,
   "metadata": {},
   "outputs": [],
   "source": [
    "def euler(func, x0, y0, x, h=0.01):\n",
    "    while x0 < x:\n",
    "        y0 = y0 + h * func(x0, y0)\n",
    "        x0 = x0 + h\n",
    "    return y0"
   ]
  },
  {
   "cell_type": "markdown",
   "metadata": {},
   "source": [
    "Найдем значения функций $y_1(1.2), y_2(1.2), y_3(2)$ методом Эйлера"
   ]
  },
  {
   "cell_type": "code",
   "execution_count": 57,
   "metadata": {},
   "outputs": [
    {
     "name": "stdout",
     "output_type": "stream",
     "text": [
      "function_1: y(1.2) = 1.749867588959271\n",
      "function_1: y(1.2) = -1.022146997799891\n",
      "function_1: y(2) = -0.24968536878621622\n"
     ]
    }
   ],
   "source": [
    "print(f\"function_1: y(1.2) = {euler(function_1, x0=1, y0=2, x=1.2)}\")\n",
    "print(f\"function_1: y(1.2) = {euler(function_2, x0=1, y0=-1, x=1.2)}\")\n",
    "print(f\"function_1: y(2) = {euler(function_3, x0=1.1, y0=-0.1, x=2)}\")"
   ]
  },
  {
   "cell_type": "markdown",
   "metadata": {},
   "source": [
    "#### Метод Рунге-Кутты\n",
    "\n",
    "Метод Рунге-Кутты четвертого порядка — наиболее распространенный метод из семейства методов Метод Рунге-Кутты численных алгоритмов решения обыкновенных дифференциальных уравнений и их систем. Формально, методом Рунге-Кутты является модифицированный и исправленный метод Эйлера, они представляют собой схемы второго порядка точности.\n",
    "\n",
    "Основная идея алгоритмов Рунге - Кутты состоит в замене правой части дифференциального уравнения, зависящей от искомой неизвестной функции, некоторым приближением."
   ]
  },
  {
   "cell_type": "code",
   "execution_count": 58,
   "metadata": {},
   "outputs": [],
   "source": [
    "def rungeKutta(func, x0, y0, x, h=0.1):\n",
    "    n = (int)((x - x0)/h)\n",
    "    y = y0\n",
    "    for i in range(1, n + 1):\n",
    "        k1 = h * func(x0, y)\n",
    "        k2 = h * func(x0 + 0.5 * h, y + 0.5 * k1)\n",
    "        k3 = h * func(x0 + 0.5 * h, y + 0.5 * k2)\n",
    "        k4 = h * func(x0 + h, y + k3)\n",
    "        y = y + (k1 + 2 * k2 + 2 * k3 + k4) / 6.0\n",
    "        x0 = x0 + h\n",
    "    return y"
   ]
  },
  {
   "cell_type": "markdown",
   "metadata": {},
   "source": [
    "Найдем значения функций $y_1(1.2), y_2(1.2), y_3(2)$ методом Рунге-Кутты 4-ого порядка"
   ]
  },
  {
   "cell_type": "code",
   "execution_count": 59,
   "metadata": {},
   "outputs": [
    {
     "name": "stdout",
     "output_type": "stream",
     "text": [
      "function_1: y(1.2) = 1.885963667285096\n",
      "function_1: y(1.2) = -1.0053938606601367\n",
      "function_1: y(2) = -0.42049641320838416\n"
     ]
    }
   ],
   "source": [
    "print(f\"function_1: y(1.2) = {rungeKutta(function_1, x0=1, y0=2, x=1.2)}\")\n",
    "print(f\"function_1: y(1.2) = {rungeKutta(function_2, x0=1, y0=-1, x=1.2)}\")\n",
    "print(f\"function_1: y(2) = {rungeKutta(function_3, x0=1.1, y0=-0.1, x=2, h=0.2)}\")"
   ]
  },
  {
   "cell_type": "markdown",
   "metadata": {},
   "source": [
    "#### Тестирование и графики"
   ]
  },
  {
   "cell_type": "code",
   "execution_count": 60,
   "metadata": {},
   "outputs": [],
   "source": [
    "def draw_plot(x, euler_y, rungeKutta_y, func_name):\n",
    "    fig = plt.figure(figsize=(4, 4))\n",
    "    ax = fig.add_axes([0,0,1,1])\n",
    "    ax.grid()\n",
    "    ax.plot(x, euler_y, 'r', label='Метод Эйлера')\n",
    "    ax.plot(x, rungeKutta_y, 'b', label='Метод Рунге-Кутты')\n",
    "    ax.set_xlabel(\"x\")\n",
    "    ax.set_ylabel(\"y\");\n",
    "    ax.set_title(func_name)\n",
    "    fig"
   ]
  },
  {
   "cell_type": "markdown",
   "metadata": {},
   "source": [
    "Формализуем задачу Коши для заданных функций"
   ]
  },
  {
   "cell_type": "code",
   "execution_count": 61,
   "metadata": {},
   "outputs": [],
   "source": [
    "cauchy_problems = [{'func': function_1, 'begin': 1, 'end': 1.5, 'x0': 1, 'y0': 2},\n",
    "       {'func': function_2, 'begin': 1, 'end': 1.5, 'x0': 1, 'y0': -1},\n",
    "       {'func': function_3, 'begin': 1, 'end': 1.5, 'x0': 1.1, 'y0': -0.1}]"
   ]
  },
  {
   "cell_type": "markdown",
   "metadata": {},
   "source": [
    "Решение и построение графиков в установленных интервалах"
   ]
  },
  {
   "cell_type": "code",
   "execution_count": 62,
   "metadata": {},
   "outputs": [
    {
     "data": {
      "image/png": "[encoded data removed]",
      "text/plain": [
       "<Figure size 288x288 with 1 Axes>"
      ]
     },
     "metadata": {
      "needs_background": "light"
     },
     "output_type": "display_data"
    },
    {
     "data": {
      "image/png": "[encoded data removed]",
      "text/plain": [
       "<Figure size 288x288 with 1 Axes>"
      ]
     },
     "metadata": {
      "needs_background": "light"
     },
     "output_type": "display_data"
    },
    {
     "data": {
      "image/png": "[encoded data removed]",
      "text/plain": [
       "<Figure size 288x288 with 1 Axes>"
      ]
     },
     "metadata": {
      "needs_background": "light"
     },
     "output_type": "display_data"
    }
   ],
   "source": [
    "for problem in cauchy_problems:\n",
    "    x_list = []\n",
    "    euler_sols = []\n",
    "    rungeKutta_sols = []\n",
    "    for x in np.linspace(problem['begin'], problem['end'], 10):\n",
    "        x_list.append(x)\n",
    "        res = euler(problem['func'], x0=problem['x0'], y0=problem['y0'], x=x)\n",
    "        euler_sols.append(res)\n",
    "        res = rungeKutta(problem['func'], x0=problem['x0'], y0=problem['y0'], x=x)\n",
    "        rungeKutta_sols.append(res)\n",
    "    draw_plot(x_list, euler_sols, rungeKutta_sols, problem['func'].__name__)"
   ]
  }
 ],
 "metadata": {
  "kernelspec": {
   "display_name": "Python 3",
   "language": "python",
   "name": "python3"
  },
  "language_info": {
   "codemirror_mode": {
    "name": "ipython",
    "version": 3
   },
   "file_extension": ".py",
   "mimetype": "text/x-python",
   "name": "python",
   "nbconvert_exporter": "python",
   "pygments_lexer": "ipython3",
   "version": "3.7.1"
  }
 },
 "nbformat": 4,
 "nbformat_minor": 2
}
